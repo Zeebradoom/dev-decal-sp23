{
 "cells": [
  {
   "cell_type": "markdown",
   "metadata": {},
   "source": [
    "# Build a Blockchain! - Blockchain Design Exercises"
   ]
  },
  {
   "cell_type": "markdown",
   "metadata": {},
   "source": [
    "## HW1 - Build a Blockchain in Python\n",
    "\n",
    "#### Getting Started\n",
    "\n",
    "CS 198-077 Spring 2020 \n",
    "HW1-Build a Blockchain in Python\n",
    "\n",
    "Created by Omkar Shanbhag, Updated by Simon Guo\n",
    "\n",
    "This notebook is meant to be a short introduction to Blockchain implementations, aimed at helping us take the topics we learn about in fundamentals, and seeing how they translate to code. \n",
    "\n",
    "In this notebook we will implement various different aspects of Blockchain technology that we understand including: \n",
    "\n",
    "- The Blockchain Data Structure using OOP \n",
    "- A proof of work simulation \n",
    "- Understanding of the concept of difficulty of finding the next block hash \n",
    "- A simulation of multiple miners with varying computational powers \n",
    "- A bit of data analytics to see if what we've implemented makes sense "
   ]
  },
  {
   "cell_type": "code",
   "execution_count": 9,
   "metadata": {},
   "outputs": [
    {
     "name": "stdout",
     "output_type": "stream",
     "text": [
      "Requirement already satisfied: ipyparallel in /Library/Frameworks/Python.framework/Versions/3.9/lib/python3.9/site-packages (8.4.1)\n",
      "Requirement already satisfied: psutil in /Library/Frameworks/Python.framework/Versions/3.9/lib/python3.9/site-packages (from ipyparallel) (5.9.4)\n",
      "Requirement already satisfied: traitlets>=4.3 in /Library/Frameworks/Python.framework/Versions/3.9/lib/python3.9/site-packages (from ipyparallel) (5.9.0)\n",
      "Requirement already satisfied: entrypoints in /Library/Frameworks/Python.framework/Versions/3.9/lib/python3.9/site-packages (from ipyparallel) (0.4)\n",
      "Requirement already satisfied: tqdm in /Library/Frameworks/Python.framework/Versions/3.9/lib/python3.9/site-packages (from ipyparallel) (4.64.1)\n",
      "Requirement already satisfied: python-dateutil>=2.1 in /Library/Frameworks/Python.framework/Versions/3.9/lib/python3.9/site-packages (from ipyparallel) (2.8.2)\n",
      "Requirement already satisfied: jupyter-client in /Library/Frameworks/Python.framework/Versions/3.9/lib/python3.9/site-packages (from ipyparallel) (8.0.3)\n",
      "Requirement already satisfied: tornado>=5.1 in /Library/Frameworks/Python.framework/Versions/3.9/lib/python3.9/site-packages (from ipyparallel) (6.2)\n",
      "Requirement already satisfied: pyzmq>=18 in /Library/Frameworks/Python.framework/Versions/3.9/lib/python3.9/site-packages (from ipyparallel) (25.0.0)\n",
      "Requirement already satisfied: ipython>=4 in /Library/Frameworks/Python.framework/Versions/3.9/lib/python3.9/site-packages (from ipyparallel) (8.10.0)\n",
      "Requirement already satisfied: decorator in /Library/Frameworks/Python.framework/Versions/3.9/lib/python3.9/site-packages (from ipyparallel) (5.1.1)\n",
      "Requirement already satisfied: ipykernel>=4.4 in /Library/Frameworks/Python.framework/Versions/3.9/lib/python3.9/site-packages (from ipyparallel) (6.21.2)\n",
      "Requirement already satisfied: nest-asyncio in /Library/Frameworks/Python.framework/Versions/3.9/lib/python3.9/site-packages (from ipykernel>=4.4->ipyparallel) (1.5.6)\n",
      "Requirement already satisfied: jupyter-core!=5.0.*,>=4.12 in /Library/Frameworks/Python.framework/Versions/3.9/lib/python3.9/site-packages (from ipykernel>=4.4->ipyparallel) (5.2.0)\n",
      "Requirement already satisfied: appnope in /Library/Frameworks/Python.framework/Versions/3.9/lib/python3.9/site-packages (from ipykernel>=4.4->ipyparallel) (0.1.3)\n",
      "Requirement already satisfied: comm>=0.1.1 in /Library/Frameworks/Python.framework/Versions/3.9/lib/python3.9/site-packages (from ipykernel>=4.4->ipyparallel) (0.1.2)\n",
      "Requirement already satisfied: packaging in /Library/Frameworks/Python.framework/Versions/3.9/lib/python3.9/site-packages (from ipykernel>=4.4->ipyparallel) (23.0)\n",
      "Requirement already satisfied: debugpy>=1.6.5 in /Library/Frameworks/Python.framework/Versions/3.9/lib/python3.9/site-packages (from ipykernel>=4.4->ipyparallel) (1.6.6)\n",
      "Requirement already satisfied: matplotlib-inline>=0.1 in /Library/Frameworks/Python.framework/Versions/3.9/lib/python3.9/site-packages (from ipykernel>=4.4->ipyparallel) (0.1.6)\n",
      "Requirement already satisfied: jedi>=0.16 in /Library/Frameworks/Python.framework/Versions/3.9/lib/python3.9/site-packages (from ipython>=4->ipyparallel) (0.18.2)\n",
      "Requirement already satisfied: pexpect>4.3 in /Library/Frameworks/Python.framework/Versions/3.9/lib/python3.9/site-packages (from ipython>=4->ipyparallel) (4.8.0)\n",
      "Requirement already satisfied: pygments>=2.4.0 in /Library/Frameworks/Python.framework/Versions/3.9/lib/python3.9/site-packages (from ipython>=4->ipyparallel) (2.14.0)\n",
      "Requirement already satisfied: stack-data in /Library/Frameworks/Python.framework/Versions/3.9/lib/python3.9/site-packages (from ipython>=4->ipyparallel) (0.6.2)\n",
      "Requirement already satisfied: pickleshare in /Library/Frameworks/Python.framework/Versions/3.9/lib/python3.9/site-packages (from ipython>=4->ipyparallel) (0.7.5)\n",
      "Requirement already satisfied: backcall in /Library/Frameworks/Python.framework/Versions/3.9/lib/python3.9/site-packages (from ipython>=4->ipyparallel) (0.2.0)\n",
      "Requirement already satisfied: prompt-toolkit<3.1.0,>=3.0.30 in /Library/Frameworks/Python.framework/Versions/3.9/lib/python3.9/site-packages (from ipython>=4->ipyparallel) (3.0.37)\n",
      "Requirement already satisfied: importlib-metadata>=4.8.3 in /Library/Frameworks/Python.framework/Versions/3.9/lib/python3.9/site-packages (from jupyter-client->ipyparallel) (6.0.0)\n",
      "Requirement already satisfied: six>=1.5 in /Library/Frameworks/Python.framework/Versions/3.9/lib/python3.9/site-packages (from python-dateutil>=2.1->ipyparallel) (1.16.0)\n",
      "Requirement already satisfied: zipp>=0.5 in /Library/Frameworks/Python.framework/Versions/3.9/lib/python3.9/site-packages (from importlib-metadata>=4.8.3->jupyter-client->ipyparallel) (3.11.0)\n",
      "Requirement already satisfied: parso<0.9.0,>=0.8.0 in /Library/Frameworks/Python.framework/Versions/3.9/lib/python3.9/site-packages (from jedi>=0.16->ipython>=4->ipyparallel) (0.8.3)\n",
      "Requirement already satisfied: platformdirs>=2.5 in /Library/Frameworks/Python.framework/Versions/3.9/lib/python3.9/site-packages (from jupyter-core!=5.0.*,>=4.12->ipykernel>=4.4->ipyparallel) (3.0.0)\n",
      "Requirement already satisfied: ptyprocess>=0.5 in /Library/Frameworks/Python.framework/Versions/3.9/lib/python3.9/site-packages (from pexpect>4.3->ipython>=4->ipyparallel) (0.7.0)\n",
      "Requirement already satisfied: wcwidth in /Library/Frameworks/Python.framework/Versions/3.9/lib/python3.9/site-packages (from prompt-toolkit<3.1.0,>=3.0.30->ipython>=4->ipyparallel) (0.2.6)\n",
      "Requirement already satisfied: executing>=1.2.0 in /Library/Frameworks/Python.framework/Versions/3.9/lib/python3.9/site-packages (from stack-data->ipython>=4->ipyparallel) (1.2.0)\n",
      "Requirement already satisfied: asttokens>=2.1.0 in /Library/Frameworks/Python.framework/Versions/3.9/lib/python3.9/site-packages (from stack-data->ipython>=4->ipyparallel) (2.2.1)\n",
      "Requirement already satisfied: pure-eval in /Library/Frameworks/Python.framework/Versions/3.9/lib/python3.9/site-packages (from stack-data->ipython>=4->ipyparallel) (0.2.2)\n"
     ]
    }
   ],
   "source": [
    "!pip install ipyparallel\n",
    "#Import statements\n",
    "import hashlib as hasher \n",
    "import random as rand\n",
    "import time \n",
    "import datetime as date\n",
    "import ipyparallel as ipp\n",
    "import numpy as np\n",
    "import matplotlib.pyplot as plt"
   ]
  },
  {
   "cell_type": "markdown",
   "metadata": {},
   "source": [
    "# Blockchain Data Structure Design"
   ]
  },
  {
   "cell_type": "markdown",
   "metadata": {},
   "source": [
    "In this section we will define the class \"Block\" and create an init function that creates a new block given some parameters, as well as a function hash_block, that computes the hash of this block based on its class variables. \n",
    "\n",
    "The init function is implemented for you below and creates a block with the following specifications \n",
    "- Index --> the index of the block on the chain (zero indexed)\n",
    "- Timestamp --> time that the block was added on to the chain\n",
    "- data --> The data the block contains (Usually points to root of merkel tree, but we can fill it with whatever for this)\n",
    "- previous_hash --> The hash value of the previous block \n",
    "- hash --> hash of this block computed using the hash_block function\n",
    "- nonce --> the variable value that we change to alter the hash output (Default value = 0, irrelevant in this section)\n",
    "\n",
    "****QUESTION #1: Implement hash_block()****\n",
    "\n",
    "We need to implement the hash_block() which computes the hash value of this block based on how we initialize it. This function takes in no parameters. \n",
    "\n",
    "Desired Functionality:\n",
    "- Concatenate string representations of all the class variables \n",
    "- Computes the SHA256 hash of this concatenation \n",
    "\n",
    "-- HINTS --\n",
    "\n",
    "- use the first import statement!!! \n",
    "- initialize a new hasher\n",
    "- Look into the following words \n",
    "    - utf-8 encoding \n",
    "    - .update() function \n",
    "    - .hexdigest() function\n",
    "    - In order for the test function below to work properly, create the string concatenation in the following order with no spaces or any other characters in between \n",
    "       - index\n",
    "       - timestamp\n",
    "       - data\n",
    "       - previous block hash\n",
    "       - nonce\n",
    "     - If you want to do it another order that incorporates everything thats totally fine, but test function wont work!"
   ]
  },
  {
   "cell_type": "markdown",
   "metadata": {},
   "source": []
  },
  {
   "cell_type": "code",
   "execution_count": 13,
   "metadata": {},
   "outputs": [],
   "source": [
    "class Block:\n",
    "    def __init__(self, index, timestamp, data, previous_hash, nonce=0):\n",
    "        self.index = index\n",
    "        self.timestamp = timestamp\n",
    "        self.data = data\n",
    "        self.nonce = nonce #set to zero as default not applicable in first section \n",
    "        self.previous_hash = previous_hash\n",
    "        self.hash = self.hash_block()\n",
    "\n",
    "    def hash_block(self):\n",
    "        hashfunc = hasher.sha256()\n",
    "        block_hash = (str(self.index) + \n",
    "                      str(self.timestamp) + \n",
    "                      str(self.data) + \n",
    "                      str(self.previous_hash) + \n",
    "                      str(self.nonce))\n",
    "        block_hash = block_hash.encode('utf-8')\n",
    "        hashfunc.update(block_hash)\n",
    "        return hashfunc.hexdigest()"
   ]
  },
  {
   "cell_type": "markdown",
   "metadata": {},
   "source": [
    "**TEST YOUR QUESTION 1 CODE HERE**\n",
    "\n",
    "Run the block of code below"
   ]
  },
  {
   "cell_type": "code",
   "execution_count": 14,
   "metadata": {},
   "outputs": [
    {
     "name": "stdout",
     "output_type": "stream",
     "text": [
      "PASSED!!! Move on to next Question\n"
     ]
    }
   ],
   "source": [
    "def test_question_1(index, time, data, previous_hash):\n",
    "    new_block = Block(index, time, data, previous_hash)\n",
    "    check_string = '2def27922fc1c67254a9cdb0c660b91abf9b135ad38fc13c7c77007448b824a0'\n",
    "    print_statement = \"PASSED!!! Move on to next Question\" if str(new_block.hash) == check_string else \"FAILED!!! Try Again\"\n",
    "    print(print_statement)\n",
    "    \n",
    "time = '2019-10-17 00:37:35.256774'\n",
    "data = 'Machine Learning Blockchain AI'\n",
    "previous_hash = '6ffd1464f68ef4aeb385d399244efa19293ba5c842c464a82c02f8256ef71428'\n",
    "index = 0\n",
    "    \n",
    "test_question_1(index, time, data, previous_hash)"
   ]
  },
  {
   "cell_type": "markdown",
   "metadata": {},
   "source": [
    "**Functions for Building the Chain**\n",
    "\n",
    "Now that we have our class Block completed, lets figure out how to make a chain out of them. For a chain, we need to first have a function that creates a genesis block, which serves as the first block of our chain, and then create the function next_block() which builds a new block on top of a given block.\n",
    "\n",
    "create_genesis_block() has been implemented for you. It creates a block with the following specifications. \n",
    "- index = 0\n",
    "- timestamp = Now (whenever the function is being called) \n",
    "- data = \"Genesis Block\"\n",
    "- previous_hash = \"0\"\n",
    "\n",
    "**QUESTION #2: Implement next_block()**\n",
    "\n",
    "We need to implement the function next_block() which takes in 1 parameter:\n",
    "- Last_block = an instance of class Block that is the block that we're building our next block on top of \n",
    "- nonce = Dont do anything with this right now - just pass it in to the Block that you create using the default \n",
    "\n",
    "We want to implement the function so that it returns a new instance of the class Block with the following specifications\n",
    "- index = index of last_block + 1\n",
    "- timestamp = Now (whenever the function is being called)\n",
    "- data = \"Hey! I'm block {index}\"  (for example block w/ index 5 would have data: \"Hey! I'm block 5\")\n",
    "- previous_hash = hash of last_block"
   ]
  },
  {
   "cell_type": "code",
   "execution_count": 15,
   "metadata": {},
   "outputs": [],
   "source": [
    "#Creates the first block with current time and generic data\n",
    "def create_genesis_block():\n",
    "    # Manually construct a block with\n",
    "    # index zero and arbitrary previous hash\n",
    "    return Block(0, date.datetime.now(), \"Genesis Block\", \"0\")\n",
    "\n",
    "#Function that creates the next block, given the last block on the chain you want to mine on\n",
    "def next_block(last_block, nonce=0):\n",
    "    this_index = last_block.index + 1\n",
    "    this_timestamp = date.datetime.now()\n",
    "    this_data = \"Hey! I'm block \" + str(this_index)\n",
    "    this_prevhash = last_block.hash\n",
    "    return Block(this_index, this_timestamp, this_data, this_prevhash)\n",
    "    "
   ]
  },
  {
   "cell_type": "markdown",
   "metadata": {},
   "source": [
    "**TEST YOUR QUESTION 2 CODE HERE**\n",
    "\n",
    "Run the block of code below"
   ]
  },
  {
   "cell_type": "code",
   "execution_count": 16,
   "metadata": {},
   "outputs": [
    {
     "name": "stdout",
     "output_type": "stream",
     "text": [
      "PASSED!!! Move on to next part\n"
     ]
    }
   ],
   "source": [
    "def test_question_2(genesis_block):\n",
    "    block_1 = next_block(genesis_block)\n",
    "    if block_1.index == 1 and block_1.data == \"Hey! I'm block 1\" and block_1.previous_hash == genesis_block.hash and str(type(block_1.timestamp)) == \"<class 'datetime.datetime'>\":\n",
    "        print(\"PASSED!!! Move on to next part\" )\n",
    "    else:\n",
    "        print(\"FAILED!!! Try again :(\")\n",
    "    \n",
    "\n",
    "genesis_block = create_genesis_block()\n",
    "test_question_2(genesis_block)"
   ]
  },
  {
   "cell_type": "markdown",
   "metadata": {},
   "source": [
    "**Spinning up a Chain**\n",
    "\n",
    "Now that we've created the data structure as well as the functions needed to create the chain, lets see how spinning up an actual instance of this would work. \n",
    "\n",
    "Below we initialize three different variables \n",
    "- blockchain - this is a python list which we initialize with one block inside (the genesis block) \n",
    "- previous_block - this points to our genesis block (since it references the first element in blockchain)\n",
    "- num_blocks - this specifies the number of additional blocks we want to add to our chain \n",
    "\n",
    "**QUESTION 3 complete_chain()**\n",
    "\n",
    "We want to complete the implementation of the function complete_chain(). This function takes in three inputs, which correspond to the initializations that we made. It returns nothing, however by the time we are done running it, the list 'blockchain' that we initialized earlier has been turned into an array of length num_blocks + 1 in which each element is an instance of class Block and each element's self.previous_hash == the previous element's self.hash. Therefore we have created our own mini blockchain!! \n",
    "\n",
    "The for loop and the print statements of complete_chain have been implemented for you, you need to add the statements that ***create a new block on top of previous_block, add it to the block chain, and edit previous block so that the for loop can continue correctly*** \n",
    "\n",
    "****HINT **** --> Literally just do all the things listed in the section immediately above in order \n",
    "\n",
    "If it works out, you should get the same number of print statements as num_blocks"
   ]
  },
  {
   "cell_type": "code",
   "execution_count": 17,
   "metadata": {},
   "outputs": [
    {
     "name": "stdout",
     "output_type": "stream",
     "text": [
      "Block #1 has been added to the blockchain!\n",
      "Hash: 8f003e07bf30a068b3cd622c469f6a8aadbff79947da880f68b60e1e081843e6\n",
      "\n",
      "Block #2 has been added to the blockchain!\n",
      "Hash: c645005f81ab04fcfd878fff47fdcafe8400ecb38811b881498b469e4436d4e3\n",
      "\n",
      "Block #3 has been added to the blockchain!\n",
      "Hash: b2369ef1da87a78263cb01bbd94772a573a6ccee0d91622c36dc8a8bc0763c65\n",
      "\n",
      "Block #4 has been added to the blockchain!\n",
      "Hash: 156c7a17c77a4aadca3fd001ad1c958c9b40e91654765d1433c85ab45fd6caeb\n",
      "\n",
      "Block #5 has been added to the blockchain!\n",
      "Hash: f59740a3e2c76102769d1e833b1e32b3124577f76412e447152de008f7900324\n",
      "\n",
      "Block #6 has been added to the blockchain!\n",
      "Hash: 39957834d5dd55a05104afaea07075023b703c6434db94f72e18e312a84ba333\n",
      "\n",
      "Block #7 has been added to the blockchain!\n",
      "Hash: ae8c96c72a7131dfac1f66df7393a18b10584ef89eaea98dd1135fb31a2df017\n",
      "\n",
      "Block #8 has been added to the blockchain!\n",
      "Hash: ff6da2c87787214b597965611843ab650bf5943dc13ecfec716058eb8466815d\n",
      "\n",
      "Block #9 has been added to the blockchain!\n",
      "Hash: a79a047ac4a9d0804337ad67a1f8b5bb640056d1ea9175567b6523354144bf4d\n",
      "\n",
      "Block #10 has been added to the blockchain!\n",
      "Hash: 2e3ce98b484e326127143da2f2511644cdedbfcbe867195c09097e3112dda351\n",
      "\n",
      "Block #11 has been added to the blockchain!\n",
      "Hash: 3e74485d39da5bc7b31b3b4fa18f4b5b6f49b303e0932fd08f2cfb4c767e3e7f\n",
      "\n",
      "Block #12 has been added to the blockchain!\n",
      "Hash: 01791529c7809ba19f81b32084e6aa8734d2e65fdefd24f2c2aefabc51d9513e\n",
      "\n",
      "Block #13 has been added to the blockchain!\n",
      "Hash: 9a71c8435c8670901a906025e3d7b359119e0a34e5ef4356834fd7e7d5f3c00b\n",
      "\n",
      "Block #14 has been added to the blockchain!\n",
      "Hash: a48a80fcfcd2e715067c8db6e96f22976240f709d983390d21ac9d0766b6ac42\n",
      "\n",
      "Block #15 has been added to the blockchain!\n",
      "Hash: 63c4e4e9f9b2f692172692eb0805f3e5b39ccd9a093b3313dd70df62a35ba0e8\n",
      "\n",
      "Block #16 has been added to the blockchain!\n",
      "Hash: 51d6e0e3f42cefd3abe27f130d168c820ee3a83e6a2636e8afe5e18d10e87cb0\n",
      "\n",
      "Block #17 has been added to the blockchain!\n",
      "Hash: 334763548d5af03aa78bd356f032501b434ff4a993bcfc91d9a05f9b11ec461b\n",
      "\n",
      "Block #18 has been added to the blockchain!\n",
      "Hash: cbd3dbc303a35a7781bfbb44112e295c097fd11e42eb58348c1b90f206877400\n",
      "\n",
      "Block #19 has been added to the blockchain!\n",
      "Hash: dbcba0cd32223a006b3ef18f12319dd42268147821085c7937f54dcd87a0fc18\n",
      "\n",
      "Block #20 has been added to the blockchain!\n",
      "Hash: 12877612a2736545dc3ae96617a2e191f4b409bed897034c43c8ca308232de6d\n",
      "\n"
     ]
    }
   ],
   "source": [
    "# Create the blockchain and add the genesis block\n",
    "blockchain = [create_genesis_block()]\n",
    "\n",
    "#Create our initial reference to previous block which points to the genesis block\n",
    "previous_block = blockchain[0]\n",
    "\n",
    "# How many blocks should we add to the chain after the genesis block\n",
    "num_blocks = 20\n",
    "\n",
    "def complete_chain(num_blocks, blockchain, previous_block):\n",
    "    # Add blocks to the chain\n",
    "    for i in range(0, num_blocks):\n",
    "        #Your code for QUESTION 3 Here \n",
    "        block_to_add = next_block(previous_block)\n",
    "        blockchain.append(block_to_add)\n",
    "        previous_block = block_to_add\n",
    "\n",
    "        #Your code for QUESTION 3 ends Here\n",
    "        # Tell everyone about it!\n",
    "        print(\"Block #{} has been added to the blockchain!\".format(block_to_add.index))\n",
    "        print(\"Hash: {}\\n\".format(block_to_add.hash))\n",
    "\n",
    "complete_chain(num_blocks, blockchain, previous_block)"
   ]
  },
  {
   "cell_type": "markdown",
   "metadata": {},
   "source": [
    "**TEST YOUR QUESTION 3 CODE HERE**\n",
    "\n",
    "Run the block of code below"
   ]
  },
  {
   "cell_type": "code",
   "execution_count": 18,
   "metadata": {},
   "outputs": [
    {
     "name": "stdout",
     "output_type": "stream",
     "text": [
      "PASSED!!! Move on to the next Part\n"
     ]
    }
   ],
   "source": [
    "def test_question_3(blockchain, num_blocks):\n",
    "    correct = True\n",
    "    if len(blockchain) != num_blocks + 1:\n",
    "        correct = False\n",
    "    for i in range(len(blockchain)-1):\n",
    "        if blockchain[i + 1].previous_hash != blockchain[i].hash:\n",
    "            correct = False\n",
    "            break\n",
    "    print_statement = \"PASSED!!! Move on to the next Part\" if correct else \"FAILED!!! Try Again :(\"\n",
    "    print(print_statement)\n",
    "\n",
    "test_question_3(blockchain, num_blocks)"
   ]
  },
  {
   "cell_type": "markdown",
   "metadata": {},
   "source": [
    "# Proof of Work Simulation"
   ]
  },
  {
   "cell_type": "markdown",
   "metadata": {},
   "source": [
    "In this section we will be doing a simulation of the proof-of-work consensus mechanism that the Bitcoin Blockchain (among others) uses. Let us define some of the concepts that we will be dealing with in this section. \n",
    "\n",
    "**The Nonce** --> Randomly generated value that we add to our concatenation of our block to add variance to our hashes\n",
    "\n",
    "**Difficulty** --> Specified by the network (in theory, here it is specified by us). Defines the number of hashes that are valid out of all possible values. Higher difficulty indicates a lower number of valid hashes. \n",
    "\n",
    "**QUESTION 4: generate_nonce(), generate_difficulty_bound(), find_next_block()**\n",
    "\n",
    "**Part 1 - Description** \n",
    "\n",
    "The functions **generate_nonce()** and **generate_difficulty_bound()** have been implemented below for you. The first part of this question involves reading through, them understanding them completely, and writing a quick 1 - 2 line summary of what they are supposed to do and how they are implemented (write it in the space given, 2 cells below).\n",
    "\n",
    "**Part 2 - Implementation**\n",
    "\n",
    "The second part of this question is to complete the implementation of find_next_block(). This function's purpose is to try different blocks with the same data, index etc. but different nonces that satisfy the difficulty metric specified. The difficulty bound has already been generated for you and the first block has been created. You have to complete the implementation so that: \n",
    "- You find a nonce such that the hash of the block is less than the difficulty bound. \n",
    "- All data from new block has to be the same (including the timestamp, for simplicity purposes) and the only thing changing is the nonce \n",
    "- For our learning purposes, increment the hashes_tried parameter appropriately everytime you try a hash so that we can see the number of hashes tried and how this correlates to our difficulty value. \n",
    "\n",
    "**HINTS**\n",
    "- How do you turn a hash string into its hex prepresentation that you can compare???\n",
    "- if your implementation is working, you should notice something interesting about all the hashes of the blocks that you are getting when you run the code cell labeled \"Create Proof of work Blockchain\"**\n",
    "\n",
    "\n",
    "\n",
    "**you can test question 4 in the a few cells below this one, after running all the cells in between**"
   ]
  },
  {
   "cell_type": "code",
   "execution_count": 19,
   "metadata": {},
   "outputs": [],
   "source": [
    "import time\n",
    "\n",
    "def generate_nonce(length=20):\n",
    "    return ''.join([str(rand.randint(0, 9)) for i in range(length)])\n",
    "\n",
    "def generate_difficulty_bound(difficulty=1):\n",
    "    diff_str = \"\"\n",
    "    for i in range(difficulty):\n",
    "        diff_str += '0'\n",
    "    for i in range(64 - difficulty):\n",
    "        diff_str += 'F'\n",
    "    diff_str = \"0x\" + diff_str  # \"0x\" needs to be added at the front to specify that it is a hex representation\n",
    "    return(int(diff_str, 16))  # Specifies that we want to create an integer of base 16 (as opposed to the default base 10)\n",
    "\n",
    "#Given a previous block and a difficulty metric, finds a nonce that results in a lower hash value\n",
    "def find_next_block(last_block, difficulty, nonce_length):\n",
    "    difficulty_bound = generate_difficulty_bound(difficulty)\n",
    "    start = time.process_time() \n",
    "    new_block = next_block(last_block)\n",
    "    hashes_tried = 1 \n",
    "    #Your code for QUESTION 4 Starts here \n",
    "    while int(new_block.hash, 16) > difficulty_bound:\n",
    "        nonce = generate_nonce(nonce_length)\n",
    "        new_block = Block(new_block.index, new_block.timestamp, new_block.data, new_block.previous_hash, nonce)\n",
    "        hashes_tried += 1 \n",
    "\n",
    "    #Your code for QUESTION 4 Ends here \n",
    "    time_taken = time.process_time() - start\n",
    "    return(time_taken, hashes_tried, new_block)"
   ]
  },
  {
   "cell_type": "markdown",
   "metadata": {},
   "source": [
    "**QUESTION 4 Description Section**\n",
    "\n",
    "Describe the following functions: \n",
    "\n",
    "- generate_nonce():         ######Your Description Here######\n",
    "\n",
    "- generate_difficulty_bound():        ######Your Description Here######"
   ]
  },
  {
   "cell_type": "markdown",
   "metadata": {},
   "source": [
    "The cell below creates our proof of work blockchain in a similar way that we do in the earlier section. \n",
    "\n",
    "Some initializations:\n",
    "- blockchain_pow: Our new python list that signifies our proof of work blockchain, with the genesis block inside\n",
    "- previous_block: The first block to use as previous block to build upon\n",
    "- num_blocks: number of additional blocks to add to teh chain\n",
    "- difficulty: difficulty of the network \n",
    "- nonce_length: length of the randomly generated nonce"
   ]
  },
  {
   "cell_type": "markdown",
   "metadata": {},
   "source": [
    "### Create Proof of Work Blockchain "
   ]
  },
  {
   "cell_type": "code",
   "execution_count": 20,
   "metadata": {},
   "outputs": [
    {
     "name": "stdout",
     "output_type": "stream",
     "text": [
      "Block #1 has been added to the blockchain!\n",
      "3648 Hashes Tried!\n",
      "Time taken to find block: 0.09792600000000018\n",
      "Hash: 000a84a87ff4b1f179bde305c827381c35c6de06ca23766cd5fd269ff7483fa9\n",
      "\n",
      "Block #2 has been added to the blockchain!\n",
      "3483 Hashes Tried!\n",
      "Time taken to find block: 0.06350299999999987\n",
      "Hash: 0006744ca51da285f909412d785c91c818e0e39e9d1cfcfa6d70285cf7f0c5c5\n",
      "\n",
      "Block #3 has been added to the blockchain!\n",
      "2695 Hashes Tried!\n",
      "Time taken to find block: 0.049177999999999944\n",
      "Hash: 00011776ed6e6fbd83ee29e080fb3f2aff1f912ec3be8d66ec6e4236170b80f0\n",
      "\n",
      "Block #4 has been added to the blockchain!\n",
      "4067 Hashes Tried!\n",
      "Time taken to find block: 0.07602299999999973\n",
      "Hash: 00072b28abad1c70c5ce0f792c67cc5aadcbb18a663b94f8dd8d447bb3efd0ab\n",
      "\n",
      "Block #5 has been added to the blockchain!\n",
      "3390 Hashes Tried!\n",
      "Time taken to find block: 0.06340099999999982\n",
      "Hash: 0008b38e081042dd89fa198c1c660d9c17d241f08caa830a20edc223b1c1f630\n",
      "\n",
      "Block #6 has been added to the blockchain!\n",
      "8986 Hashes Tried!\n",
      "Time taken to find block: 0.1684960000000002\n",
      "Hash: 000390af6f5aa9fe07f9706c7e4faab2ddff84b2bf0bf0b4015eb65f6ca93a34\n",
      "\n",
      "Block #7 has been added to the blockchain!\n",
      "7708 Hashes Tried!\n",
      "Time taken to find block: 0.1460189999999999\n",
      "Hash: 0008d854b01e4015d869e8d32d27d16083db920a90ef7394886c07dfeb15cdea\n",
      "\n",
      "Block #8 has been added to the blockchain!\n",
      "131 Hashes Tried!\n",
      "Time taken to find block: 0.0024759999999997007\n",
      "Hash: 0000b92007b6e3ff481ac941678fba72e2efe0325d35a74837340c040563524b\n",
      "\n",
      "Block #9 has been added to the blockchain!\n",
      "342 Hashes Tried!\n",
      "Time taken to find block: 0.006526000000000032\n",
      "Hash: 000f1909d4485847ee8dd766107e1f24844a16bb59dd6fa9ebd0c755fbee9060\n",
      "\n",
      "Block #10 has been added to the blockchain!\n",
      "9722 Hashes Tried!\n",
      "Time taken to find block: 0.18340000000000067\n",
      "Hash: 000f28abdb2f7fa264225632e7a43a0ec70c12a120760fff6bc051ecbfd8725d\n",
      "\n",
      "Block #11 has been added to the blockchain!\n",
      "4246 Hashes Tried!\n",
      "Time taken to find block: 0.08046500000000023\n",
      "Hash: 000dc7e62da128dbfcf359e634bd5a3a8008128a3a7df83ca86cb7f1779af6cd\n",
      "\n",
      "Block #12 has been added to the blockchain!\n",
      "79 Hashes Tried!\n",
      "Time taken to find block: 0.0016199999999999548\n",
      "Hash: 0009df669877cdbfc82b914caaa58b04a95379bf50a0e6d9887505bc34573eff\n",
      "\n",
      "Block #13 has been added to the blockchain!\n",
      "11012 Hashes Tried!\n",
      "Time taken to find block: 0.21610399999999963\n",
      "Hash: 00037ecc7d3a000124b8a5fb71c5919da07b9d474595cd938229767c0f2a81d9\n",
      "\n",
      "Block #14 has been added to the blockchain!\n",
      "7115 Hashes Tried!\n",
      "Time taken to find block: 0.13591200000000025\n",
      "Hash: 00097277ca0dcbd2e730f48ddbd41d30f699e34dc086b1b452e9c14baf795ef2\n",
      "\n",
      "Block #15 has been added to the blockchain!\n",
      "1971 Hashes Tried!\n",
      "Time taken to find block: 0.03689100000000067\n",
      "Hash: 00010592b9713cb011ce68a6f26d5a8cf01c06550441a0a295396770d1bef781\n",
      "\n",
      "Block #16 has been added to the blockchain!\n",
      "186 Hashes Tried!\n",
      "Time taken to find block: 0.003449999999999953\n",
      "Hash: 000df9454faec2ae054421ab42ac4ecd5666d428e0fd6f2b31a41c52d4f66ee4\n",
      "\n",
      "Block #17 has been added to the blockchain!\n",
      "281 Hashes Tried!\n",
      "Time taken to find block: 0.005209999999999937\n",
      "Hash: 000b5f9c1dc7824b59a22f155ec77110fd2bc71f849e81f41f01efc73d7c8218\n",
      "\n",
      "Block #18 has been added to the blockchain!\n",
      "15 Hashes Tried!\n",
      "Time taken to find block: 0.000268000000000157\n",
      "Hash: 000e22d7afd1a6f50a40a75a66bdfacbd1cbf75b775e1bf7fb08a901a793a843\n",
      "\n",
      "Block #19 has been added to the blockchain!\n",
      "491 Hashes Tried!\n",
      "Time taken to find block: 0.009188999999999226\n",
      "Hash: 000d79cf351624faa528d4c7618ee9b6c4e96823af0ba61c0ca62db770e59ef6\n",
      "\n",
      "Block #20 has been added to the blockchain!\n",
      "1482 Hashes Tried!\n",
      "Time taken to find block: 0.027609999999999246\n",
      "Hash: 000685e8f23eca3115ce7e7fe8edaebc1a3962f8ed810e885b0d33c0cde26730\n",
      "\n"
     ]
    }
   ],
   "source": [
    "# Create the blockchain and add the genesis block\n",
    "blockchain_pow = [create_genesis_block()]\n",
    "\n",
    "#Create our initial reference to previous block which points to the genesis block\n",
    "previous_block = blockchain_pow[0]\n",
    "\n",
    "# How many blocks should we add to the chain after genesis block\n",
    "num_blocks = 20\n",
    "\n",
    "#magnitude of difficulty of hash - number of zeroes that must be in the beginning of the hash\n",
    "difficulty = 3\n",
    "\n",
    "#length of nonce that will be generated and added\n",
    "nonce_length = 20\n",
    "\n",
    "# Add blocks to the chain based on difficulty with nonces of length nonce_length\n",
    "def create_pow_blockchain(num_blocks, difficulty, blockchain_pow, previous_block, nonce_length, print_data=1):\n",
    "    hash_array = []\n",
    "    time_array = []\n",
    "    for i in range(0, num_blocks):\n",
    "        time_taken, hashes_tried, block_to_add = find_next_block(previous_block, difficulty, nonce_length)\n",
    "        blockchain_pow.append(block_to_add)\n",
    "        previous_block = block_to_add\n",
    "        hash_array.append(hashes_tried)\n",
    "        time_array.append(time_taken)\n",
    "        # Tell everyone about it!\n",
    "        if print_data:\n",
    "            print(\"Block #{} has been added to the blockchain!\".format(block_to_add.index))\n",
    "            print(\"{} Hashes Tried!\".format(hashes_tried))\n",
    "            print(\"Time taken to find block: {}\".format(time_taken))\n",
    "            print(\"Hash: {}\\n\".format(block_to_add.hash))\n",
    "    return(hash_array, time_array)\n",
    "\n",
    "hash_array, time_array = create_pow_blockchain(num_blocks, difficulty, blockchain_pow, previous_block, nonce_length)"
   ]
  },
  {
   "cell_type": "markdown",
   "metadata": {},
   "source": [
    "**TEST YOUR QUESTION 4 CODE HERE**\n",
    "\n",
    "Run the block of code below"
   ]
  },
  {
   "cell_type": "code",
   "execution_count": 21,
   "metadata": {},
   "outputs": [
    {
     "name": "stdout",
     "output_type": "stream",
     "text": [
      "PASSED!!! Move on to the next Part\n"
     ]
    }
   ],
   "source": [
    "def test_question_4(blockchain_pow, num_blocks):\n",
    "    correct = True\n",
    "    bound = generate_difficulty_bound(difficulty)\n",
    "    if len(blockchain_pow) != num_blocks + 1:\n",
    "        correct = False\n",
    "    for i in range(len(blockchain_pow) - 1):\n",
    "        if blockchain_pow[i + 1].previous_hash != blockchain_pow[i].hash:\n",
    "            correct = False\n",
    "            break\n",
    "        if int(blockchain_pow[i + 1].hash, 16) > bound:\n",
    "            correct = False\n",
    "            break\n",
    "    print_statement = \"PASSED!!! Move on to the next Part\" if correct else \"FAILED!!! Try Again :(\"\n",
    "    print(print_statement)\n",
    "            \n",
    "test_question_4(blockchain_pow, num_blocks)"
   ]
  },
  {
   "cell_type": "markdown",
   "metadata": {},
   "source": [
    "Once you have passed the above test case, you can do things like play around with the difficulties and nonce lengths and seeing that happens "
   ]
  },
  {
   "cell_type": "markdown",
   "metadata": {},
   "source": [
    "# Note: The sections below are optional but super cool!"
   ]
  },
  {
   "cell_type": "markdown",
   "metadata": {},
   "source": [
    "# Distributed Network + Compute Power Simulation"
   ]
  },
  {
   "cell_type": "markdown",
   "metadata": {},
   "source": [
    "In this section, instead of simulating a single node that carries out all the proof of work calculations, we will create a bunch of different nodes that will all compete to find different blocks. These nodes will all have different compute powers that we will be able to specify. Below we will define the MinerNodeNaive class which has an init function to create an instance, as well as a try_hash function that allows it to try a hash and see if it works. "
   ]
  },
  {
   "cell_type": "code",
   "execution_count": 22,
   "metadata": {},
   "outputs": [],
   "source": [
    "#Naive miner class that races with other miners to see who can get a certain number of blocks first \n",
    "class MinerNodeNaive: \n",
    "    def __init__(self, name, compute):\n",
    "        self.name = name \n",
    "        self.compute = compute\n",
    "    \n",
    "    def try_hash(self, diff_value, chain):\n",
    "        last_block = chain[-1]\n",
    "        difficulty = generate_difficulty_bound(diff_value)\n",
    "        date_now = date.datetime.now()\n",
    "        this_index = last_block.index + 1\n",
    "        this_timestamp = date_now\n",
    "        this_data = \"Hey! I'm block \" + str(this_index)\n",
    "        this_hash = last_block.hash\n",
    "        new_block = Block(this_index, this_timestamp, this_data, this_hash)\n",
    "        if int(new_block.hash, 16) < difficulty:\n",
    "            chain.append(new_block)\n",
    "            # Tell everyone about it!\n",
    "            print(\"Block #{} has been added to the blockchain!\".format(new_block.index))\n",
    "            print(\"Block found by: {}\".format(self.name))\n",
    "            print(\"Hash: {}\\n\".format(new_block.hash))\n",
    "        "
   ]
  },
  {
   "cell_type": "markdown",
   "metadata": {},
   "source": [
    "**Question #5: Describe the Following Cells**\n",
    "\n",
    "In the next 4 cells I try to simulate a bunch of different miners with different compute powers. However this isn't completely indicative of how a real system works, and is limited by what I had to work with. Read through the code, and run all of the cells and explain what is happening in a paragrpah. Also explain how this is different from real world vanilla proof of work systems and how this simulation isn't completely accurate of what's actually happening while nodes race to find the next block. There is a cell at the bottom where you can enter your description.  "
   ]
  },
  {
   "cell_type": "code",
   "execution_count": 23,
   "metadata": {},
   "outputs": [],
   "source": [
    "#Initialize multiple miners on the network \n",
    "berkeley_Miner = MinerNodeNaive(\"Berkeley Miner\", 10)\n",
    "stanford_Miner = MinerNodeNaive(\"Stanford Miner\", 5)\n",
    "MIT_Miner = MinerNodeNaive(\"MIT Miner\", 2)\n",
    "UCLA_Miner = MinerNodeNaive(\"UCLA Miner\", 1)\n",
    "\n",
    "miner_array = [berkeley_Miner, stanford_Miner, MIT_Miner, UCLA_Miner]"
   ]
  },
  {
   "cell_type": "code",
   "execution_count": 24,
   "metadata": {},
   "outputs": [],
   "source": [
    "def create_compute_simulation(miner_array):\n",
    "    compute_array = []\n",
    "    for miner in miner_array:\n",
    "        for i in range(miner.compute):\n",
    "            compute_array.append(miner.name)\n",
    "    return(compute_array)\n",
    "\n",
    "compute_simulation_array = create_compute_simulation(miner_array)\n",
    "rand.shuffle(compute_simulation_array)"
   ]
  },
  {
   "cell_type": "code",
   "execution_count": 25,
   "metadata": {},
   "outputs": [],
   "source": [
    "chain_length = 20\n",
    "blockchain_distributed = [create_genesis_block()]\n",
    "genesis_block_dist = blockchain_distributed[0]\n",
    "chain_difficulty = [rand.randint(2,4) for i in range(chain_length)]"
   ]
  },
  {
   "cell_type": "code",
   "execution_count": 26,
   "metadata": {},
   "outputs": [
    {
     "name": "stdout",
     "output_type": "stream",
     "text": [
      "Block #1 has been added to the blockchain!\n",
      "Block found by: Berkeley Miner\n",
      "Hash: 001d144dd883ce41e89fa53a8e65e322508b0324ae06afe84a00b17d7c65854a\n",
      "\n",
      "Block #2 has been added to the blockchain!\n",
      "Block found by: Stanford Miner\n",
      "Hash: 00053c612710a1f44dc28a61f35053fa3ad58e8b51af3bf6a00ce15f95ce112b\n",
      "\n",
      "Block #3 has been added to the blockchain!\n",
      "Block found by: Stanford Miner\n",
      "Hash: 00bbdfa87d961ff9e741ed753ba722be3e3a3c07b8020afd226e5e922a175f7f\n",
      "\n",
      "Block #4 has been added to the blockchain!\n",
      "Block found by: Berkeley Miner\n",
      "Hash: 00085c7b6ceeebe2a615072fc99733655088df9feac5a6377002c34b0446f916\n",
      "\n",
      "Block #5 has been added to the blockchain!\n",
      "Block found by: MIT Miner\n",
      "Hash: 001a6aa2651f8806fe48cfc965f08a1d1cdb5238066fe12fbc5e034a40b7340c\n",
      "\n",
      "Block #6 has been added to the blockchain!\n",
      "Block found by: Stanford Miner\n",
      "Hash: 00e42979f8aa785ce839fc8b987dbd4de67d0d0bc448dd44f2d81826cc6c785b\n",
      "\n",
      "Block #7 has been added to the blockchain!\n",
      "Block found by: Berkeley Miner\n",
      "Hash: 0000c5b9084828f64039abb6b2b9ba34f599b21daf2bdfaf148b6cab53eb151f\n",
      "\n",
      "Block #8 has been added to the blockchain!\n",
      "Block found by: Berkeley Miner\n",
      "Hash: 0004deb624dfe67673c79073f659fb63810b08049ace9d4be8305a262a434572\n",
      "\n",
      "Block #9 has been added to the blockchain!\n",
      "Block found by: Berkeley Miner\n",
      "Hash: 0000edd1ed390d24974bd51f70f84a27d880446fde0e19c37d685b7a37538b37\n",
      "\n",
      "Block #10 has been added to the blockchain!\n",
      "Block found by: Berkeley Miner\n",
      "Hash: 000077f6423ddabce051524705bd8765c22353d84cc1958817ba74d7d67b092a\n",
      "\n",
      "Block #11 has been added to the blockchain!\n",
      "Block found by: Berkeley Miner\n",
      "Hash: 008302ed7ce976cf5bac71c06fce582bec11ad8d64d4dc4d95f6ee08f66e958a\n",
      "\n",
      "Block #12 has been added to the blockchain!\n",
      "Block found by: Berkeley Miner\n",
      "Hash: 0000fa8a819d1ed793f7114bac5eb0a04cf8d07282d498addf53a282bb30994f\n",
      "\n",
      "Block #13 has been added to the blockchain!\n",
      "Block found by: MIT Miner\n",
      "Hash: 0002aec724a3fa6fd081732dfb18985cfa6f06b72bd44bb5f471dd8489759501\n",
      "\n",
      "Block #14 has been added to the blockchain!\n",
      "Block found by: Berkeley Miner\n",
      "Hash: 000aa14cd8b4444670af3d8a814e3e1fce2bf6b6ee7dd11421b2e407af47f23e\n",
      "\n",
      "Block #15 has been added to the blockchain!\n",
      "Block found by: Berkeley Miner\n",
      "Hash: 000d55019c00bf47c59efa69809bd2580daf833f82bc85bd3b53488bec76b720\n",
      "\n",
      "Block #16 has been added to the blockchain!\n",
      "Block found by: Stanford Miner\n",
      "Hash: 00023a37e80b920f25f49a5efd115c0bf0504584ec9b8173e529c2c078f89481\n",
      "\n",
      "Block #17 has been added to the blockchain!\n",
      "Block found by: Berkeley Miner\n",
      "Hash: 000d749b7189c62f897c7039ec889de0220f58bb2bfe96e042e7cc057a3652c3\n",
      "\n",
      "Block #18 has been added to the blockchain!\n",
      "Block found by: Stanford Miner\n",
      "Hash: 00089356005cbb55e0469998195e7ee9f54183b987197e4fbd13ebb1ef9814d8\n",
      "\n",
      "Block #19 has been added to the blockchain!\n",
      "Block found by: MIT Miner\n",
      "Hash: 000129b0535e9019a29a4846e64c1fc64f0ecf71989e0afee038209f98135bd4\n",
      "\n",
      "Block #20 has been added to the blockchain!\n",
      "Block found by: Stanford Miner\n",
      "Hash: 0000e4e3e1928d591eedbcd0c78bd2a964ec7db8b69ddba96029bddf1495d774\n",
      "\n"
     ]
    }
   ],
   "source": [
    "for i in range(len(chain_difficulty)): \n",
    "    while len(blockchain_distributed) < i + 2:\n",
    "        next_miner_str = rand.sample(compute_simulation_array, 1)[0] \n",
    "        next_miner = berkeley_Miner #random default (go bears)\n",
    "        for miner in miner_array:\n",
    "            if next_miner_str == miner.name:\n",
    "                next_miner = miner\n",
    "        next_miner.try_hash(chain_difficulty[i], blockchain_distributed)\n",
    "        "
   ]
  },
  {
   "cell_type": "markdown",
   "metadata": {},
   "source": [
    "**Question 5 Description Here**\n",
    "\n",
    "- Description: **#####In the first cell, multiple miners are initialized on the network, with different compute powers. The create_compute_simulation() function is used to simulate the distribution of computational power among the miners, and to return an array representing the different miners and their computing power. The for-loop starts to add blocks to the blockchain, and at each iteration, a random miner is selected from the compute_simulation_array using rand.sample(). The try_hash() method is then called on the miner with the current chain difficulty and the current blockchain. Once a block is found, it is added to the blockchain and the miner who found the block is identified. In this simulation, each miner has a fixed amount of computational power and the distribution of power is simulated with a shuffle. In a real-world proof of work system, the distribution of computational power is not fixed and miners are free to join and leave the network. The difficulty of mining a block is dynamically adjusted by the system, in order to maintain a steady rate of block creation. The simulation also does not consider network latency and bandwidth, which are important factors in determining the actual time required to propagate a newly found block to the rest of the network. ####**"
   ]
  },
  {
   "cell_type": "markdown",
   "metadata": {
    "collapsed": true
   },
   "source": [
    "# Blockchain Data Analytics"
   ]
  },
  {
   "cell_type": "markdown",
   "metadata": {
    "collapsed": true
   },
   "source": [
    "Here we will use data analytics to analyze the number of hashes we need to try before we find a valid hash, given a difficulty level. Look through the code briefly (in depth is not necessary), run all of the cells, and answer the question at the bottom. (difficulty level 3 takes a bit of time so dont be alarmed if this next cell takes a bit of time to run). "
   ]
  },
  {
   "cell_type": "code",
   "execution_count": 27,
   "metadata": {},
   "outputs": [
    {
     "name": "stdout",
     "output_type": "stream",
     "text": [
      "Difficulty Level: 1 complete\n",
      "Difficulty Level: 2 complete\n",
      "Difficulty Level: 3 complete\n",
      "Difficulty Level: 4 complete\n"
     ]
    }
   ],
   "source": [
    "blockchain = [create_genesis_block()]\n",
    "previous_block = blockchain[0]\n",
    "num_blocks = 10\n",
    "\n",
    "#3 different types of difficulty to analyze\n",
    "difficulty_0 = 1\n",
    "difficulty_1 = 2\n",
    "difficulty_2 = 3\n",
    "difficulty_3 = 4\n",
    "\n",
    "nonce_length = 20\n",
    "\n",
    "hash_array_0, time_array_0 = create_pow_blockchain(num_blocks, difficulty_0, blockchain, previous_block, nonce_length, 0)\n",
    "print(\"Difficulty Level: {} complete\".format(difficulty_0))\n",
    "hash_array_1, time_array_1 = create_pow_blockchain(num_blocks, difficulty_1, blockchain, previous_block, nonce_length, 0)\n",
    "print(\"Difficulty Level: {} complete\".format(difficulty_1))\n",
    "hash_array_2, time_array_2 = create_pow_blockchain(num_blocks, difficulty_2, blockchain, previous_block, nonce_length, 0)\n",
    "print(\"Difficulty Level: {} complete\".format(difficulty_2))\n",
    "hash_array_3, time_array_3 = create_pow_blockchain(num_blocks, difficulty_3, blockchain, previous_block, nonce_length, 0)\n",
    "print(\"Difficulty Level: {} complete\".format(difficulty_3))"
   ]
  },
  {
   "cell_type": "code",
   "execution_count": 28,
   "metadata": {},
   "outputs": [],
   "source": [
    "mean_arr_hash = [np.mean(hash_array_0), np.mean(hash_array_1), np.mean(hash_array_2), np.mean(hash_array_3)]\n",
    "mean_arr_time = [np.mean(time_array_0), np.mean(time_array_1), np.mean(time_array_2), np.mean(time_array_3)]"
   ]
  },
  {
   "cell_type": "code",
   "execution_count": 29,
   "metadata": {},
   "outputs": [
    {
     "data": {
      "image/png": "[encoded data removed]",
      "text/plain": [
       "<Figure size 640x480 with 1 Axes>"
      ]
     },
     "metadata": {},
     "output_type": "display_data"
    }
   ],
   "source": [
    "plt.plot(mean_arr_hash)\n",
    "plt.show()"
   ]
  },
  {
   "cell_type": "code",
   "execution_count": 30,
   "metadata": {},
   "outputs": [
    {
     "data": {
      "image/png": "[encoded data removed]",
      "text/plain": [
       "<Figure size 640x480 with 1 Axes>"
      ]
     },
     "metadata": {},
     "output_type": "display_data"
    }
   ],
   "source": [
    "plt.plot(mean_arr_time)\n",
    "plt.show()"
   ]
  },
  {
   "cell_type": "code",
   "execution_count": 31,
   "metadata": {},
   "outputs": [
    {
     "name": "stdout",
     "output_type": "stream",
     "text": [
      "Factor of difficulty increase from 1 to 2: 18.508875739644974\n",
      "Factor of difficulty increase from 2 to 3: 12.22346547314578\n",
      "Factor of difficulty increase from 3 to 4: 21.485366810513927\n"
     ]
    }
   ],
   "source": [
    "diff_factor_1 = np.mean(hash_array_1)/np.mean(hash_array_0)\n",
    "diff_factor_2 = np.mean(hash_array_2)/np.mean(hash_array_1)\n",
    "diff_factor_3 = np.mean(hash_array_3)/np.mean(hash_array_2)\n",
    "print(\"Factor of difficulty increase from 1 to 2: {}\".format(diff_factor_1))\n",
    "print(\"Factor of difficulty increase from 2 to 3: {}\".format(diff_factor_2))\n",
    "print(\"Factor of difficulty increase from 3 to 4: {}\".format(diff_factor_3))"
   ]
  },
  {
   "cell_type": "markdown",
   "metadata": {},
   "source": [
    "**Question 6: This one is simple**\n",
    "\n",
    "Look at the factor of difficulty increase from each level to the subsequent level, printed from the cell above.\n",
    "\n",
    "What whould the factor of difficulty increase be for each level: ** Increases by a factor of 18 from 1-2, 12 from 2-3, and 21 from 3-4 **"
   ]
  },
  {
   "cell_type": "markdown",
   "metadata": {},
   "source": [
    "**Check Off**\n",
    "\n",
    "If you have filled out all the skeleton code and put down your answers for the questions, let any of the instructor know and we will check you off!\n",
    "\n",
    "If you cannot finish it this class, you have until next week's class to finish check off and earn points.\n"
   ]
  }
 ],
 "metadata": {
  "kernelspec": {
   "display_name": "Python 3 (ipykernel)",
   "language": "python",
   "name": "python3"
  },
  "language_info": {
   "codemirror_mode": {
    "name": "ipython",
    "version": 3
   },
   "file_extension": ".py",
   "mimetype": "text/x-python",
   "name": "python",
   "nbconvert_exporter": "python",
   "pygments_lexer": "ipython3",
   "version": "3.9.6"
  }
 },
 "nbformat": 4,
 "nbformat_minor": 2
}
